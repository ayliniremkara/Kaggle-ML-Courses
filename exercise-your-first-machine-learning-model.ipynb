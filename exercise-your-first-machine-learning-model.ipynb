{
 "cells": [
  {
   "cell_type": "markdown",
   "id": "279ec734",
   "metadata": {
    "papermill": {
     "duration": 0.006442,
     "end_time": "2022-08-23T14:01:22.604011",
     "exception": false,
     "start_time": "2022-08-23T14:01:22.597569",
     "status": "completed"
    },
    "tags": []
   },
   "source": [
    "**This notebook is an exercise in the [Introduction to Machine Learning](https://www.kaggle.com/learn/intro-to-machine-learning) course.  You can reference the tutorial at [this link](https://www.kaggle.com/dansbecker/your-first-machine-learning-model).**\n",
    "\n",
    "---\n"
   ]
  },
  {
   "cell_type": "markdown",
   "id": "f4fdc21f",
   "metadata": {
    "papermill": {
     "duration": 0.004682,
     "end_time": "2022-08-23T14:01:22.614069",
     "exception": false,
     "start_time": "2022-08-23T14:01:22.609387",
     "status": "completed"
    },
    "tags": []
   },
   "source": [
    "## Recap\n",
    "So far, you have loaded your data and reviewed it with the following code. Run this cell to set up your coding environment where the previous step left off."
   ]
  },
  {
   "cell_type": "code",
   "execution_count": 1,
   "id": "6afd2061",
   "metadata": {
    "execution": {
     "iopub.execute_input": "2022-08-23T14:01:22.626670Z",
     "iopub.status.busy": "2022-08-23T14:01:22.626120Z",
     "iopub.status.idle": "2022-08-23T14:01:24.210214Z",
     "shell.execute_reply": "2022-08-23T14:01:24.208632Z"
    },
    "papermill": {
     "duration": 1.593849,
     "end_time": "2022-08-23T14:01:24.213049",
     "exception": false,
     "start_time": "2022-08-23T14:01:22.619200",
     "status": "completed"
    },
    "tags": []
   },
   "outputs": [
    {
     "name": "stdout",
     "output_type": "stream",
     "text": [
      "Setup Complete\n"
     ]
    }
   ],
   "source": [
    "# Code you have previously used to load data\n",
    "import pandas as pd\n",
    "\n",
    "# Path of the file to read\n",
    "iowa_file_path = '../input/home-data-for-ml-course/train.csv'\n",
    "\n",
    "home_data = pd.read_csv(iowa_file_path)\n",
    "\n",
    "# Set up code checking\n",
    "from learntools.core import binder\n",
    "binder.bind(globals())\n",
    "from learntools.machine_learning.ex3 import *\n",
    "\n",
    "print(\"Setup Complete\")"
   ]
  },
  {
   "cell_type": "markdown",
   "id": "31c5680f",
   "metadata": {
    "papermill": {
     "duration": 0.004977,
     "end_time": "2022-08-23T14:01:24.223512",
     "exception": false,
     "start_time": "2022-08-23T14:01:24.218535",
     "status": "completed"
    },
    "tags": []
   },
   "source": [
    "# Exercises\n",
    "\n",
    "## Step 1: Specify Prediction Target\n",
    "Select the target variable, which corresponds to the sales price. Save this to a new variable called `y`. You'll need to print a list of the columns to find the name of the column you need.\n"
   ]
  },
  {
   "cell_type": "code",
   "execution_count": 2,
   "id": "e655b7b1",
   "metadata": {
    "execution": {
     "iopub.execute_input": "2022-08-23T14:01:24.235914Z",
     "iopub.status.busy": "2022-08-23T14:01:24.235140Z",
     "iopub.status.idle": "2022-08-23T14:01:24.243045Z",
     "shell.execute_reply": "2022-08-23T14:01:24.241679Z"
    },
    "papermill": {
     "duration": 0.017584,
     "end_time": "2022-08-23T14:01:24.246087",
     "exception": false,
     "start_time": "2022-08-23T14:01:24.228503",
     "status": "completed"
    },
    "tags": []
   },
   "outputs": [
    {
     "name": "stdout",
     "output_type": "stream",
     "text": [
      "Index(['Id', 'MSSubClass', 'MSZoning', 'LotFrontage', 'LotArea', 'Street',\n",
      "       'Alley', 'LotShape', 'LandContour', 'Utilities', 'LotConfig',\n",
      "       'LandSlope', 'Neighborhood', 'Condition1', 'Condition2', 'BldgType',\n",
      "       'HouseStyle', 'OverallQual', 'OverallCond', 'YearBuilt', 'YearRemodAdd',\n",
      "       'RoofStyle', 'RoofMatl', 'Exterior1st', 'Exterior2nd', 'MasVnrType',\n",
      "       'MasVnrArea', 'ExterQual', 'ExterCond', 'Foundation', 'BsmtQual',\n",
      "       'BsmtCond', 'BsmtExposure', 'BsmtFinType1', 'BsmtFinSF1',\n",
      "       'BsmtFinType2', 'BsmtFinSF2', 'BsmtUnfSF', 'TotalBsmtSF', 'Heating',\n",
      "       'HeatingQC', 'CentralAir', 'Electrical', '1stFlrSF', '2ndFlrSF',\n",
      "       'LowQualFinSF', 'GrLivArea', 'BsmtFullBath', 'BsmtHalfBath', 'FullBath',\n",
      "       'HalfBath', 'BedroomAbvGr', 'KitchenAbvGr', 'KitchenQual',\n",
      "       'TotRmsAbvGrd', 'Functional', 'Fireplaces', 'FireplaceQu', 'GarageType',\n",
      "       'GarageYrBlt', 'GarageFinish', 'GarageCars', 'GarageArea', 'GarageQual',\n",
      "       'GarageCond', 'PavedDrive', 'WoodDeckSF', 'OpenPorchSF',\n",
      "       'EnclosedPorch', '3SsnPorch', 'ScreenPorch', 'PoolArea', 'PoolQC',\n",
      "       'Fence', 'MiscFeature', 'MiscVal', 'MoSold', 'YrSold', 'SaleType',\n",
      "       'SaleCondition', 'SalePrice'],\n",
      "      dtype='object')\n"
     ]
    }
   ],
   "source": [
    "# print the list of columns in the dataset to find the name of the prediction target\n",
    "print(home_data.columns)"
   ]
  },
  {
   "cell_type": "code",
   "execution_count": 3,
   "id": "4890e6f2",
   "metadata": {
    "execution": {
     "iopub.execute_input": "2022-08-23T14:01:24.258880Z",
     "iopub.status.busy": "2022-08-23T14:01:24.258188Z",
     "iopub.status.idle": "2022-08-23T14:01:24.276656Z",
     "shell.execute_reply": "2022-08-23T14:01:24.275343Z"
    },
    "papermill": {
     "duration": 0.027565,
     "end_time": "2022-08-23T14:01:24.278961",
     "exception": false,
     "start_time": "2022-08-23T14:01:24.251396",
     "status": "completed"
    },
    "tags": []
   },
   "outputs": [
    {
     "data": {
      "application/javascript": [
       "parent.postMessage({\"jupyterEvent\": \"custom.exercise_interaction\", \"data\": {\"outcomeType\": 1, \"valueTowardsCompletion\": 0.25, \"interactionType\": 1, \"questionType\": 2, \"questionId\": \"1_SetTarget\", \"learnToolsVersion\": \"0.3.4\", \"failureMessage\": \"\", \"exceptionClass\": \"\", \"trace\": \"\"}}, \"*\")"
      ],
      "text/plain": [
       "<IPython.core.display.Javascript object>"
      ]
     },
     "metadata": {},
     "output_type": "display_data"
    },
    {
     "data": {
      "text/markdown": [
       "<span style=\"color:#33cc33\">Correct</span>"
      ],
      "text/plain": [
       "Correct"
      ]
     },
     "metadata": {},
     "output_type": "display_data"
    }
   ],
   "source": [
    "y = home_data['SalePrice']\n",
    "\n",
    "# Check your answer\n",
    "step_1.check()"
   ]
  },
  {
   "cell_type": "code",
   "execution_count": 4,
   "id": "27393ac5",
   "metadata": {
    "collapsed": true,
    "execution": {
     "iopub.execute_input": "2022-08-23T14:01:24.291439Z",
     "iopub.status.busy": "2022-08-23T14:01:24.291040Z",
     "iopub.status.idle": "2022-08-23T14:01:24.296046Z",
     "shell.execute_reply": "2022-08-23T14:01:24.294679Z"
    },
    "jupyter": {
     "outputs_hidden": true
    },
    "papermill": {
     "duration": 0.014065,
     "end_time": "2022-08-23T14:01:24.298353",
     "exception": false,
     "start_time": "2022-08-23T14:01:24.284288",
     "status": "completed"
    },
    "tags": []
   },
   "outputs": [],
   "source": [
    "# The lines below will show you a hint or the solution.\n",
    "# step_1.hint() \n",
    "# step_1.solution()"
   ]
  },
  {
   "cell_type": "markdown",
   "id": "31c0b497",
   "metadata": {
    "papermill": {
     "duration": 0.005221,
     "end_time": "2022-08-23T14:01:24.309084",
     "exception": false,
     "start_time": "2022-08-23T14:01:24.303863",
     "status": "completed"
    },
    "tags": []
   },
   "source": [
    "## Step 2: Create X\n",
    "Now you will create a DataFrame called `X` holding the predictive features.\n",
    "\n",
    "Since you want only some columns from the original data, you'll first create a list with the names of the columns you want in `X`.\n",
    "\n",
    "You'll use just the following columns in the list (you can copy and paste the whole list to save some typing, though you'll still need to add quotes):\n",
    "  * LotArea\n",
    "  * YearBuilt\n",
    "  * 1stFlrSF\n",
    "  * 2ndFlrSF\n",
    "  * FullBath\n",
    "  * BedroomAbvGr\n",
    "  * TotRmsAbvGrd\n",
    "\n",
    "After you've created that list of features, use it to create the DataFrame that you'll use to fit the model."
   ]
  },
  {
   "cell_type": "code",
   "execution_count": 5,
   "id": "47db70cd",
   "metadata": {
    "execution": {
     "iopub.execute_input": "2022-08-23T14:01:24.322925Z",
     "iopub.status.busy": "2022-08-23T14:01:24.321622Z",
     "iopub.status.idle": "2022-08-23T14:01:24.340249Z",
     "shell.execute_reply": "2022-08-23T14:01:24.339311Z"
    },
    "papermill": {
     "duration": 0.028013,
     "end_time": "2022-08-23T14:01:24.342687",
     "exception": false,
     "start_time": "2022-08-23T14:01:24.314674",
     "status": "completed"
    },
    "tags": []
   },
   "outputs": [
    {
     "data": {
      "application/javascript": [
       "parent.postMessage({\"jupyterEvent\": \"custom.exercise_interaction\", \"data\": {\"outcomeType\": 1, \"valueTowardsCompletion\": 0.25, \"interactionType\": 1, \"questionType\": 2, \"questionId\": \"2_SelectPredictionData\", \"learnToolsVersion\": \"0.3.4\", \"failureMessage\": \"\", \"exceptionClass\": \"\", \"trace\": \"\"}}, \"*\")"
      ],
      "text/plain": [
       "<IPython.core.display.Javascript object>"
      ]
     },
     "metadata": {},
     "output_type": "display_data"
    },
    {
     "data": {
      "text/markdown": [
       "<span style=\"color:#33cc33\">Correct</span>"
      ],
      "text/plain": [
       "Correct"
      ]
     },
     "metadata": {},
     "output_type": "display_data"
    }
   ],
   "source": [
    "# Create the list of features below\n",
    "feature_names = ['LotArea','YearBuilt','1stFlrSF','2ndFlrSF','FullBath','BedroomAbvGr','TotRmsAbvGrd']\n",
    "\n",
    "# Select data corresponding to features in feature_names\n",
    "X = home_data[feature_names]\n",
    "\n",
    "# Check your answer\n",
    "step_2.check()"
   ]
  },
  {
   "cell_type": "code",
   "execution_count": 6,
   "id": "2ae25bd5",
   "metadata": {
    "collapsed": true,
    "execution": {
     "iopub.execute_input": "2022-08-23T14:01:24.357139Z",
     "iopub.status.busy": "2022-08-23T14:01:24.356283Z",
     "iopub.status.idle": "2022-08-23T14:01:24.361169Z",
     "shell.execute_reply": "2022-08-23T14:01:24.360368Z"
    },
    "jupyter": {
     "outputs_hidden": true
    },
    "papermill": {
     "duration": 0.01484,
     "end_time": "2022-08-23T14:01:24.363514",
     "exception": false,
     "start_time": "2022-08-23T14:01:24.348674",
     "status": "completed"
    },
    "tags": []
   },
   "outputs": [],
   "source": [
    "# step_2.hint()\n",
    "# step_2.solution()"
   ]
  },
  {
   "cell_type": "markdown",
   "id": "a62a83a0",
   "metadata": {
    "papermill": {
     "duration": 0.005558,
     "end_time": "2022-08-23T14:01:24.375138",
     "exception": false,
     "start_time": "2022-08-23T14:01:24.369580",
     "status": "completed"
    },
    "tags": []
   },
   "source": [
    "## Review Data\n",
    "Before building a model, take a quick look at **X** to verify it looks sensible"
   ]
  },
  {
   "cell_type": "code",
   "execution_count": 7,
   "id": "897b86b1",
   "metadata": {
    "execution": {
     "iopub.execute_input": "2022-08-23T14:01:24.389653Z",
     "iopub.status.busy": "2022-08-23T14:01:24.388777Z",
     "iopub.status.idle": "2022-08-23T14:01:24.430668Z",
     "shell.execute_reply": "2022-08-23T14:01:24.428619Z"
    },
    "papermill": {
     "duration": 0.053144,
     "end_time": "2022-08-23T14:01:24.434361",
     "exception": false,
     "start_time": "2022-08-23T14:01:24.381217",
     "status": "completed"
    },
    "tags": []
   },
   "outputs": [
    {
     "name": "stdout",
     "output_type": "stream",
     "text": [
      "             LotArea    YearBuilt     1stFlrSF     2ndFlrSF     FullBath  \\\n",
      "count    1460.000000  1460.000000  1460.000000  1460.000000  1460.000000   \n",
      "mean    10516.828082  1971.267808  1162.626712   346.992466     1.565068   \n",
      "std      9981.264932    30.202904   386.587738   436.528436     0.550916   \n",
      "min      1300.000000  1872.000000   334.000000     0.000000     0.000000   \n",
      "25%      7553.500000  1954.000000   882.000000     0.000000     1.000000   \n",
      "50%      9478.500000  1973.000000  1087.000000     0.000000     2.000000   \n",
      "75%     11601.500000  2000.000000  1391.250000   728.000000     2.000000   \n",
      "max    215245.000000  2010.000000  4692.000000  2065.000000     3.000000   \n",
      "\n",
      "       BedroomAbvGr  TotRmsAbvGrd  \n",
      "count   1460.000000   1460.000000  \n",
      "mean       2.866438      6.517808  \n",
      "std        0.815778      1.625393  \n",
      "min        0.000000      2.000000  \n",
      "25%        2.000000      5.000000  \n",
      "50%        3.000000      6.000000  \n",
      "75%        3.000000      7.000000  \n",
      "max        8.000000     14.000000  \n",
      "   LotArea  YearBuilt  1stFlrSF  2ndFlrSF  FullBath  BedroomAbvGr  \\\n",
      "0     8450       2003       856       854         2             3   \n",
      "1     9600       1976      1262         0         2             3   \n",
      "2    11250       2001       920       866         2             3   \n",
      "3     9550       1915       961       756         1             3   \n",
      "4    14260       2000      1145      1053         2             4   \n",
      "\n",
      "   TotRmsAbvGrd  \n",
      "0             8  \n",
      "1             6  \n",
      "2             6  \n",
      "3             7  \n",
      "4             9  \n"
     ]
    }
   ],
   "source": [
    "# Review data\n",
    "# print description or statistics from X\n",
    "print(X.describe())\n",
    "\n",
    "# print the top few lines\n",
    "print(X.head())"
   ]
  },
  {
   "cell_type": "markdown",
   "id": "efa56fc3",
   "metadata": {
    "papermill": {
     "duration": 0.005924,
     "end_time": "2022-08-23T14:01:24.446942",
     "exception": false,
     "start_time": "2022-08-23T14:01:24.441018",
     "status": "completed"
    },
    "tags": []
   },
   "source": [
    "## Step 3: Specify and Fit Model\n",
    "Create a `DecisionTreeRegressor` and save it iowa_model. Ensure you've done the relevant import from sklearn to run this command.\n",
    "\n",
    "Then fit the model you just created using the data in `X` and `y` that you saved above."
   ]
  },
  {
   "cell_type": "code",
   "execution_count": 8,
   "id": "e7e7d302",
   "metadata": {
    "execution": {
     "iopub.execute_input": "2022-08-23T14:01:24.460539Z",
     "iopub.status.busy": "2022-08-23T14:01:24.460103Z",
     "iopub.status.idle": "2022-08-23T14:01:24.481701Z",
     "shell.execute_reply": "2022-08-23T14:01:24.480352Z"
    },
    "papermill": {
     "duration": 0.031038,
     "end_time": "2022-08-23T14:01:24.483906",
     "exception": false,
     "start_time": "2022-08-23T14:01:24.452868",
     "status": "completed"
    },
    "tags": []
   },
   "outputs": [
    {
     "data": {
      "application/javascript": [
       "parent.postMessage({\"jupyterEvent\": \"custom.exercise_interaction\", \"data\": {\"outcomeType\": 1, \"valueTowardsCompletion\": 0.25, \"interactionType\": 1, \"questionType\": 2, \"questionId\": \"3_CreateModel\", \"learnToolsVersion\": \"0.3.4\", \"failureMessage\": \"\", \"exceptionClass\": \"\", \"trace\": \"\"}}, \"*\")"
      ],
      "text/plain": [
       "<IPython.core.display.Javascript object>"
      ]
     },
     "metadata": {},
     "output_type": "display_data"
    },
    {
     "data": {
      "text/markdown": [
       "<span style=\"color:#33cc33\">Correct</span>"
      ],
      "text/plain": [
       "Correct"
      ]
     },
     "metadata": {},
     "output_type": "display_data"
    }
   ],
   "source": [
    "from sklearn.tree import DecisionTreeRegressor\n",
    "#specify the model. \n",
    "#For model reproducibility, set a numeric value for random_state when specifying the model\n",
    "iowa_model = DecisionTreeRegressor(random_state = 3)\n",
    "\n",
    "# Fit the model\n",
    "iowa_model.fit(X,y)\n",
    "\n",
    "# Check your answer\n",
    "step_3.check()"
   ]
  },
  {
   "cell_type": "code",
   "execution_count": 9,
   "id": "ee7e0694",
   "metadata": {
    "execution": {
     "iopub.execute_input": "2022-08-23T14:01:24.499127Z",
     "iopub.status.busy": "2022-08-23T14:01:24.498438Z",
     "iopub.status.idle": "2022-08-23T14:01:24.502674Z",
     "shell.execute_reply": "2022-08-23T14:01:24.501635Z"
    },
    "papermill": {
     "duration": 0.015266,
     "end_time": "2022-08-23T14:01:24.505179",
     "exception": false,
     "start_time": "2022-08-23T14:01:24.489913",
     "status": "completed"
    },
    "tags": []
   },
   "outputs": [],
   "source": [
    "# step_3.hint()\n",
    "# step_3.solution()"
   ]
  },
  {
   "cell_type": "markdown",
   "id": "83b4d9ac",
   "metadata": {
    "papermill": {
     "duration": 0.005917,
     "end_time": "2022-08-23T14:01:24.517635",
     "exception": false,
     "start_time": "2022-08-23T14:01:24.511718",
     "status": "completed"
    },
    "tags": []
   },
   "source": [
    "## Step 4: Make Predictions\n",
    "Make predictions with the model's `predict` command using `X` as the data. Save the results to a variable called `predictions`."
   ]
  },
  {
   "cell_type": "code",
   "execution_count": 10,
   "id": "e5b83eea",
   "metadata": {
    "execution": {
     "iopub.execute_input": "2022-08-23T14:01:24.532430Z",
     "iopub.status.busy": "2022-08-23T14:01:24.531318Z",
     "iopub.status.idle": "2022-08-23T14:01:24.548223Z",
     "shell.execute_reply": "2022-08-23T14:01:24.546760Z"
    },
    "papermill": {
     "duration": 0.02718,
     "end_time": "2022-08-23T14:01:24.550820",
     "exception": false,
     "start_time": "2022-08-23T14:01:24.523640",
     "status": "completed"
    },
    "tags": []
   },
   "outputs": [
    {
     "name": "stdout",
     "output_type": "stream",
     "text": [
      "[208500. 181500. 223500. ... 266500. 142125. 147500.]\n"
     ]
    },
    {
     "data": {
      "application/javascript": [
       "parent.postMessage({\"jupyterEvent\": \"custom.exercise_interaction\", \"data\": {\"outcomeType\": 1, \"valueTowardsCompletion\": 0.25, \"interactionType\": 1, \"questionType\": 2, \"questionId\": \"4_MakePredictions\", \"learnToolsVersion\": \"0.3.4\", \"failureMessage\": \"\", \"exceptionClass\": \"\", \"trace\": \"\"}}, \"*\")"
      ],
      "text/plain": [
       "<IPython.core.display.Javascript object>"
      ]
     },
     "metadata": {},
     "output_type": "display_data"
    },
    {
     "data": {
      "text/markdown": [
       "<span style=\"color:#33cc33\">Correct</span>"
      ],
      "text/plain": [
       "Correct"
      ]
     },
     "metadata": {},
     "output_type": "display_data"
    }
   ],
   "source": [
    "predictions = iowa_model.predict(X)\n",
    "print(predictions)\n",
    "\n",
    "# Check your answer\n",
    "step_4.check()"
   ]
  },
  {
   "cell_type": "code",
   "execution_count": 11,
   "id": "da4e0be6",
   "metadata": {
    "execution": {
     "iopub.execute_input": "2022-08-23T14:01:24.566181Z",
     "iopub.status.busy": "2022-08-23T14:01:24.565410Z",
     "iopub.status.idle": "2022-08-23T14:01:24.569758Z",
     "shell.execute_reply": "2022-08-23T14:01:24.568665Z"
    },
    "papermill": {
     "duration": 0.014985,
     "end_time": "2022-08-23T14:01:24.572358",
     "exception": false,
     "start_time": "2022-08-23T14:01:24.557373",
     "status": "completed"
    },
    "tags": []
   },
   "outputs": [],
   "source": [
    "# step_4.hint()\n",
    "# step_4.solution()"
   ]
  },
  {
   "cell_type": "markdown",
   "id": "3cd5bd63",
   "metadata": {
    "papermill": {
     "duration": 0.00656,
     "end_time": "2022-08-23T14:01:24.585402",
     "exception": false,
     "start_time": "2022-08-23T14:01:24.578842",
     "status": "completed"
    },
    "tags": []
   },
   "source": [
    "## Think About Your Results\n",
    "\n",
    "Use the `head` method to compare the top few predictions to the actual home values (in `y`) for those same homes. Anything surprising?\n"
   ]
  },
  {
   "cell_type": "code",
   "execution_count": 12,
   "id": "d3fd52fe",
   "metadata": {
    "execution": {
     "iopub.execute_input": "2022-08-23T14:01:24.601472Z",
     "iopub.status.busy": "2022-08-23T14:01:24.600976Z",
     "iopub.status.idle": "2022-08-23T14:01:24.609407Z",
     "shell.execute_reply": "2022-08-23T14:01:24.608279Z"
    },
    "papermill": {
     "duration": 0.018684,
     "end_time": "2022-08-23T14:01:24.611591",
     "exception": false,
     "start_time": "2022-08-23T14:01:24.592907",
     "status": "completed"
    },
    "tags": []
   },
   "outputs": [
    {
     "data": {
      "text/plain": [
       "0    208500\n",
       "1    181500\n",
       "2    223500\n",
       "3    140000\n",
       "4    250000\n",
       "Name: SalePrice, dtype: int64"
      ]
     },
     "execution_count": 12,
     "metadata": {},
     "output_type": "execute_result"
    }
   ],
   "source": [
    "# You can write code in this cell\n",
    "y.head()"
   ]
  },
  {
   "cell_type": "markdown",
   "id": "014aea2d",
   "metadata": {
    "papermill": {
     "duration": 0.006653,
     "end_time": "2022-08-23T14:01:24.624884",
     "exception": false,
     "start_time": "2022-08-23T14:01:24.618231",
     "status": "completed"
    },
    "tags": []
   },
   "source": [
    "It's natural to ask how accurate the model's predictions will be and how you can improve that. That will be you're next step.\n",
    "\n",
    "# Keep Going\n",
    "\n",
    "You are ready for **[Model Validation](https://www.kaggle.com/dansbecker/model-validation).**\n"
   ]
  },
  {
   "cell_type": "markdown",
   "id": "3a61edb7",
   "metadata": {
    "papermill": {
     "duration": 0.006228,
     "end_time": "2022-08-23T14:01:24.637814",
     "exception": false,
     "start_time": "2022-08-23T14:01:24.631586",
     "status": "completed"
    },
    "tags": []
   },
   "source": [
    "---\n",
    "\n",
    "\n",
    "\n",
    "\n",
    "*Have questions or comments? Visit the [course discussion forum](https://www.kaggle.com/learn/intro-to-machine-learning/discussion) to chat with other learners.*"
   ]
  }
 ],
 "metadata": {
  "kernelspec": {
   "display_name": "Python 3",
   "language": "python",
   "name": "python3"
  },
  "language_info": {
   "codemirror_mode": {
    "name": "ipython",
    "version": 3
   },
   "file_extension": ".py",
   "mimetype": "text/x-python",
   "name": "python",
   "nbconvert_exporter": "python",
   "pygments_lexer": "ipython3",
   "version": "3.7.12"
  },
  "papermill": {
   "default_parameters": {},
   "duration": 13.047795,
   "end_time": "2022-08-23T14:01:25.669279",
   "environment_variables": {},
   "exception": null,
   "input_path": "__notebook__.ipynb",
   "output_path": "__notebook__.ipynb",
   "parameters": {},
   "start_time": "2022-08-23T14:01:12.621484",
   "version": "2.3.4"
  }
 },
 "nbformat": 4,
 "nbformat_minor": 5
}
